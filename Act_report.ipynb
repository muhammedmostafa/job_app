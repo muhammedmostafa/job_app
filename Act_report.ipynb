{
 "cells": [
  {
   "cell_type": "markdown",
   "metadata": {},
   "source": [
    "# News Content Collect and Store\n",
    "## The goal of this coding challenge is to create a solution that crawls for articles from a news website, cleanses the response, stores it in a mongo database, then makes it available to search via an API.\n",
    "# Specifications\n",
    "- Write an application to crawl articles on a news website such as [theguardian.com](http://theguardian.com) or [bbc.com](http://bbc.com/) using a crawler framework such as [Scrapy](http://scrapy.org). You can use a crawl framework of your choice and build the application in Python.\n",
    "- The application should cleanse the articles to obtain only information relevant to the news story, e.g. article text, author, headline, article url, etc. Use a framework such as Readability to cleanse the page of superfluous content such as advertising and HTML.\n",
    "- Store the data in a hosted Mongo database, e.g. [MongoDB Atlas](https://www.mongodb.com/cloud/atlas), for subsequent search and retrieval. Ensure the URL of the article is included to enable comparison to the original.\n",
    "- Write an API that provides access to the content in the mongo database.\n",
    "- Bonus: The user should be able to search the articles' text by keyword.\n",
    "# How we evaluate\n",
    "## **In the context of a coding challenge, we almost always value quality over number of features**. So it is fine to skip certain features or specs as long as the goal is writing really clean code and having a solid software architecture in place. \n",
    "\n",
    "The aspects of your code we will review include (but not limited to):\n",
    "\n",
    "- **Architecture**: how clean is the separation between the front-end and the back-end?\n",
    "- **Code quality**: is the code simple, easy to understand, and maintainable? Are there any code smells or other red flags? Does object-oriented code follows principles such as the single responsibility principle? Is the coding style consistent with the language's guidelines? Is it consistent throughout the codebase?\n",
    "- **Version Control**: are you commiting early and often ? how good are your git commit messages ?\n",
    "- **Correctness**: does the application do what was asked? If there is anything missing, does the README explain why it is missing?"
   ]
  }
 ],
 "metadata": {
  "kernelspec": {
   "display_name": "Python 3",
   "language": "python",
   "name": "python3"
  },
  "language_info": {
   "codemirror_mode": {
    "name": "ipython",
    "version": 3
   },
   "file_extension": ".py",
   "mimetype": "text/x-python",
   "name": "python",
   "nbconvert_exporter": "python",
   "pygments_lexer": "ipython3",
   "version": "3.8.5"
  }
 },
 "nbformat": 4,
 "nbformat_minor": 4
}
