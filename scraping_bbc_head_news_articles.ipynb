{
 "cells": [
  {
   "cell_type": "code",
   "execution_count": 1,
   "metadata": {},
   "outputs": [],
   "source": [
    "import requests \n",
    "from bs4 import BeautifulSoup as soup\n",
    "import pandas as pd\n"
   ]
  },
  {
   "cell_type": "code",
   "execution_count": 3,
   "metadata": {},
   "outputs": [
    {
     "data": {
      "text/plain": [
       "200"
      ]
     },
     "execution_count": 3,
     "metadata": {},
     "output_type": "execute_result"
    }
   ],
   "source": [
    "#requesting news response from bbc\n",
    "bbc_news_url = \"https://www.bbc.co.uk/news\"\n",
    "response = requests.get(bbc_news_url)\n",
    "response.status_code\n"
   ]
  },
  {
   "cell_type": "code",
   "execution_count": null,
   "metadata": {},
   "outputs": [],
   "source": []
  },
  {
   "cell_type": "code",
   "execution_count": 4,
   "metadata": {
    "scrolled": true
   },
   "outputs": [
    {
     "name": "stdout",
     "output_type": "stream",
     "text": [
      "'You are not alone' says Queen in Christmas speech\n",
      "https://www.bbc.com/news/uk-55447011\n",
      "She says that while all many people want is \"a squeeze of the hand\", there is \"hope in the new dawn\".\n",
      "2020-12-25T15:50:19.000Z\n",
      "UK minister sees 'special relationship' with EU\n",
      "https://www.bbc.com/news/uk-politics-55451102\n",
      "The cabinet secretary says he has lost friends over Brexit and admits it turned UK politics \"ugly\".\n",
      "2020-12-25T15:50:19.000Z\n",
      "UN peacekeepers killed in CAR on election eve\n",
      "https://www.bbc.com/news/world-africa-55451763\n",
      "The UN said three peacekeepers died in two separate attacks, as rebel and government forces clash.\n",
      "2020-12-25T15:50:19.000Z\n",
      "Australian saved in five-day Antarctica rescue\n",
      "https://www.bbc.com/news/world-australia-55446454\n",
      "Australia, China and the US work together to medically evacuate the expeditioner.\n",
      "2020-12-25T15:50:19.000Z\n",
      "Millions wake up to tighter Covid restrictions in UK\n",
      "https://www.bbc.com/news/uk-55449596\n",
      "More areas in England enter tier four, as lockdowns begin in Scotland, Wales and Northern Ireland.\n",
      "2020-12-25T15:50:19.000Z\n",
      "Australian saved in five-day Antarctica rescue\n",
      "https://www.bbc.com/news/world-australia-55446454\n",
      "Australia, China and the US work together to medically evacuate the expeditioner.\n",
      "2020-12-25T15:50:19.000Z\n",
      "Millions wake up to tighter Covid restrictions in UK\n",
      "https://www.bbc.com/news/uk-55449596\n",
      "More areas in England enter tier four, as lockdowns begin in Scotland, Wales and Northern Ireland.\n",
      "2020-12-25T15:50:19.000Z\n",
      "Many dead in boating accident on Ugandan lake\n",
      "https://www.bbc.com/news/world-africa-55449328\n",
      "Strong winds caused the boat to sink on the lake, which has a history of incidents, officials said.\n",
      "2020-12-25T15:50:19.000Z\n",
      "Russian historian jailed for dismembering partner\n",
      "https://www.bbc.com/news/world-europe-55447557\n",
      "Oleg Sokolov, an expert on Napoleon, was sentenced to 12 and a half years in prison.\n",
      "2020-12-25T15:50:19.000Z\n",
      "Boko Haram kill villagers in Christmas Eve attack\n",
      "https://www.bbc.com/news/world-africa-55448105\n",
      "The Islamist group also burnt down the church in the Christian village in northeast Nigeria.\n",
      "2020-12-25T15:50:19.000Z\n"
     ]
    }
   ],
   "source": [
    "#Soup the response\n",
    "bbc_soup = soup(response.content, 'lxml')\n",
    "article_div = bbc_soup.find_all( attrs={\"class\": \"gs-c-promo-body gel-1/2@xs gel-1/1@m\"})\n",
    "\n",
    "#extracting article details\n",
    "head_line=[]\n",
    "article_url=[]\n",
    "article_summary=[]\n",
    "article_date_time=[]\n",
    "\n",
    "for article in article_div:\n",
    "    try:\n",
    "        title = article.find('h3').text\n",
    "        print(title)\n",
    "        head_line.append(title)\n",
    "    except:\n",
    "        print(\"exception while extracting head line\")\n",
    "    \n",
    "    try:\n",
    "        href = article.find('a', href=True)\n",
    "        url = \"https://www.bbc.com\"+href['href']\n",
    "        print(url)\n",
    "        article_url.append(url)\n",
    "    except:\n",
    "        print(\"exception while extracting url\")\n",
    "        \n",
    "    try:\n",
    "        summary = article.find('p').text\n",
    "        print(summary)\n",
    "        article_summary.append(summary)\n",
    "    except:\n",
    "        print(\"exception while extracting summary\")\n",
    "        \n",
    "    try:\n",
    "        date_time = article_div[0].find('time')['datetime']\n",
    "        print(date_time)\n",
    "        article_date_time.append(date_time)\n",
    "    except:\n",
    "        print(\"exception while extracting date time\")\n",
    "            \n"
   ]
  },
  {
   "cell_type": "code",
   "execution_count": 5,
   "metadata": {},
   "outputs": [
    {
     "data": {
      "text/html": [
       "<div>\n",
       "<style scoped>\n",
       "    .dataframe tbody tr th:only-of-type {\n",
       "        vertical-align: middle;\n",
       "    }\n",
       "\n",
       "    .dataframe tbody tr th {\n",
       "        vertical-align: top;\n",
       "    }\n",
       "\n",
       "    .dataframe thead th {\n",
       "        text-align: right;\n",
       "    }\n",
       "</style>\n",
       "<table border=\"1\" class=\"dataframe\">\n",
       "  <thead>\n",
       "    <tr style=\"text-align: right;\">\n",
       "      <th></th>\n",
       "      <th>head_line</th>\n",
       "      <th>url</th>\n",
       "      <th>summary</th>\n",
       "      <th>date</th>\n",
       "    </tr>\n",
       "  </thead>\n",
       "  <tbody>\n",
       "    <tr>\n",
       "      <th>0</th>\n",
       "      <td>'You are not alone' says Queen in Christmas sp...</td>\n",
       "      <td>https://www.bbc.com/news/uk-55447011</td>\n",
       "      <td>She says that while all many people want is \"a...</td>\n",
       "      <td>2020-12-25T15:50:19.000Z</td>\n",
       "    </tr>\n",
       "  </tbody>\n",
       "</table>\n",
       "</div>"
      ],
      "text/plain": [
       "                                           head_line  \\\n",
       "0  'You are not alone' says Queen in Christmas sp...   \n",
       "\n",
       "                                    url  \\\n",
       "0  https://www.bbc.com/news/uk-55447011   \n",
       "\n",
       "                                             summary                      date  \n",
       "0  She says that while all many people want is \"a...  2020-12-25T15:50:19.000Z  "
      ]
     },
     "execution_count": 5,
     "metadata": {},
     "output_type": "execute_result"
    }
   ],
   "source": [
    "#dataframe the article details\n",
    "data = {'head_line': head_line, 'url': article_url, 'summary':article_summary, 'date': article_date_time}\n",
    "df = pd.DataFrame.from_dict(data)\n",
    "df.head(1)"
   ]
  },
  {
   "cell_type": "code",
   "execution_count": 6,
   "metadata": {},
   "outputs": [
    {
     "name": "stdout",
     "output_type": "stream",
     "text": [
      "<class 'pandas.core.frame.DataFrame'>\n",
      "RangeIndex: 10 entries, 0 to 9\n",
      "Data columns (total 4 columns):\n",
      " #   Column     Non-Null Count  Dtype \n",
      "---  ------     --------------  ----- \n",
      " 0   head_line  10 non-null     object\n",
      " 1   url        10 non-null     object\n",
      " 2   summary    10 non-null     object\n",
      " 3   date       10 non-null     object\n",
      "dtypes: object(4)\n",
      "memory usage: 448.0+ bytes\n"
     ]
    }
   ],
   "source": [
    "df.info()"
   ]
  },
  {
   "cell_type": "code",
   "execution_count": 7,
   "metadata": {},
   "outputs": [],
   "source": [
    "#function to get response from url nad soup it\n",
    "#it takes a list of url's and return a list of souped responses\n",
    "def get_article(article_url):\n",
    "\n",
    "    article_soup=[]\n",
    "    for url in article_url:\n",
    "        try:\n",
    "            response = requests.get(url)\n",
    "            article_soup.append(soup(response.content, 'lxml'))\n",
    "        except:\n",
    "            print(\"error fetching response\")\n",
    "        \n",
    "    return(article_soup)\n",
    "\n",
    "#get list of soup\n",
    "article_soup = get_article(article_url)\n",
    "#get list of article text blocks\n",
    "text_blocks = article_soup[0].find_all(attrs={\"data-component\": \"text-block\"})\n",
    "#append all text blocks in one text and append it in article text list\n",
    "article_text=[]\n",
    "text=\"\"\n",
    "for article in article_soup:\n",
    "    try:\n",
    "        text_blocks = article.find_all(attrs={\"data-component\": \"text-block\"})\n",
    "    except:\n",
    "        print(\"error finding blocks\")\n",
    "    for block in text_blocks:\n",
    "        try:\n",
    "            text += block.find('p').text+\"\\n\"\n",
    "        except:\n",
    "            print(\"error extracting text\")\n",
    "        \n",
    "    article_text.append(text)\n",
    "    text = \"\"\n",
    "    text_blocks=[]"
   ]
  },
  {
   "cell_type": "code",
   "execution_count": 8,
   "metadata": {},
   "outputs": [
    {
     "data": {
      "text/html": [
       "<div>\n",
       "<style scoped>\n",
       "    .dataframe tbody tr th:only-of-type {\n",
       "        vertical-align: middle;\n",
       "    }\n",
       "\n",
       "    .dataframe tbody tr th {\n",
       "        vertical-align: top;\n",
       "    }\n",
       "\n",
       "    .dataframe thead th {\n",
       "        text-align: right;\n",
       "    }\n",
       "</style>\n",
       "<table border=\"1\" class=\"dataframe\">\n",
       "  <thead>\n",
       "    <tr style=\"text-align: right;\">\n",
       "      <th></th>\n",
       "      <th>head_line</th>\n",
       "      <th>url</th>\n",
       "      <th>summary</th>\n",
       "      <th>date</th>\n",
       "      <th>text</th>\n",
       "    </tr>\n",
       "  </thead>\n",
       "  <tbody>\n",
       "    <tr>\n",
       "      <th>0</th>\n",
       "      <td>'You are not alone' says Queen in Christmas sp...</td>\n",
       "      <td>https://www.bbc.com/news/uk-55447011</td>\n",
       "      <td>She says that while all many people want is \"a...</td>\n",
       "      <td>2020-12-25T15:50:19.000Z</td>\n",
       "      <td>The Queen has used her Christmas Day message t...</td>\n",
       "    </tr>\n",
       "  </tbody>\n",
       "</table>\n",
       "</div>"
      ],
      "text/plain": [
       "                                           head_line  \\\n",
       "0  'You are not alone' says Queen in Christmas sp...   \n",
       "\n",
       "                                    url  \\\n",
       "0  https://www.bbc.com/news/uk-55447011   \n",
       "\n",
       "                                             summary  \\\n",
       "0  She says that while all many people want is \"a...   \n",
       "\n",
       "                       date                                               text  \n",
       "0  2020-12-25T15:50:19.000Z  The Queen has used her Christmas Day message t...  "
      ]
     },
     "execution_count": 8,
     "metadata": {},
     "output_type": "execute_result"
    }
   ],
   "source": [
    "#creat a column for article text in df\n",
    "df['text']=article_text\n",
    "df.head(1)"
   ]
  },
  {
   "cell_type": "code",
   "execution_count": 9,
   "metadata": {},
   "outputs": [],
   "source": [
    "#save the df into csv file\n",
    "df.to_csv(\"bbc_scraped_articles.csv\", index=False)"
   ]
  }
 ],
 "metadata": {
  "kernelspec": {
   "display_name": "Python 3",
   "language": "python",
   "name": "python3"
  },
  "language_info": {
   "codemirror_mode": {
    "name": "ipython",
    "version": 3
   },
   "file_extension": ".py",
   "mimetype": "text/x-python",
   "name": "python",
   "nbconvert_exporter": "python",
   "pygments_lexer": "ipython3",
   "version": "3.8.5"
  }
 },
 "nbformat": 4,
 "nbformat_minor": 4
}
